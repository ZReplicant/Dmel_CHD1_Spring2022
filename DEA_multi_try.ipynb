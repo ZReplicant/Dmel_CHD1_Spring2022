{
  "nbformat": 4,
  "nbformat_minor": 0,
  "metadata": {
    "colab": {
      "name": "Drosophila CHD1 project.ipynb",
      "provenance": [],
      "collapsed_sections": []
    },
    "kernelspec": {
      "name": "ir",
      "display_name": "R"
    },
    "language_info": {
      "name": "R"
    }
  },
  "cells": [
    {
      "cell_type": "markdown",
      "source": [
        "Install packages"
      ],
      "metadata": {
        "id": "02_7_lTA_b_K"
      }
    },
    {
      "cell_type": "code",
      "source": [
        "install.packages(c('stringi', 'stringr', 'data.table', 'dplyr', 'gplots', 'openxlsx', 'tidyverse', 'BiocManager'))"
      ],
      "metadata": {
        "colab": {
          "base_uri": "https://localhost:8080/"
        },
        "id": "KZONASnW9j_m",
        "outputId": "b6c99928-1822-43fc-b8b8-2f249192fe78"
      },
      "execution_count": null,
      "outputs": [
        {
          "output_type": "stream",
          "name": "stderr",
          "text": [
            "Installing packages into ‘/usr/local/lib/R/site-library’\n",
            "(as ‘lib’ is unspecified)\n",
            "\n",
            "also installing the dependencies ‘bitops’, ‘gtools’, ‘caTools’, ‘Rcpp’\n",
            "\n",
            "\n"
          ]
        }
      ]
    },
    {
      "cell_type": "code",
      "source": [
        "BiocManager::install(c(\"tximport\", \"GenomicRanges\", \"DESeq2\"))"
      ],
      "metadata": {
        "colab": {
          "base_uri": "https://localhost:8080/"
        },
        "id": "bYC3t-Qf-FV1",
        "outputId": "5c1c92a7-4a48-43f6-d0b7-5cf0800c7912"
      },
      "execution_count": null,
      "outputs": [
        {
          "output_type": "stream",
          "name": "stderr",
          "text": [
            "'getOption(\"repos\")' replaces Bioconductor standard repositories, see\n",
            "'?repositories' for details\n",
            "\n",
            "replacement repositories:\n",
            "    CRAN: https://cran.rstudio.com\n",
            "\n",
            "\n",
            "Bioconductor version 3.15 (BiocManager 1.30.17), R 4.2.0 (2022-04-22)\n",
            "\n",
            "Installing package(s) 'BiocVersion', 'tximport', 'GenomicRanges', 'DESeq2'\n",
            "\n",
            "also installing the dependencies ‘formatR’, ‘plogr’, ‘png’, ‘Biostrings’, ‘matrixStats’, ‘lambda.r’, ‘futile.options’, ‘RSQLite’, ‘KEGGREST’, ‘XML’, ‘xtable’, ‘RCurl’, ‘GenomeInfoDbData’, ‘zlibbioc’, ‘MatrixGenerics’, ‘DelayedArray’, ‘futile.logger’, ‘snow’, ‘BH’, ‘AnnotationDbi’, ‘annotate’, ‘BiocGenerics’, ‘S4Vectors’, ‘IRanges’, ‘GenomeInfoDb’, ‘XVector’, ‘SummarizedExperiment’, ‘Biobase’, ‘BiocParallel’, ‘genefilter’, ‘locfit’, ‘geneplotter’, ‘RcppArmadillo’\n",
            "\n",
            "\n",
            "Old packages: 'ggplot2', 'httr', 'roxygen2', 'tibble', 'xfun'\n",
            "\n"
          ]
        }
      ]
    },
    {
      "cell_type": "markdown",
      "source": [
        "Load libraries"
      ],
      "metadata": {
        "id": "hRIW72zWCyHZ"
      }
    },
    {
      "cell_type": "code",
      "execution_count": null,
      "metadata": {
        "id": "BSzcOP14nVlg"
      },
      "outputs": [],
      "source": [
        "library(stringi)\n",
        "library(GenomicRanges)\n",
        "library(DESeq2)\n",
        "library(data.table)\n",
        "library(dplyr)\n",
        "library(stringr)\n",
        "library(gplots)\n",
        "library(tximport)\n",
        "library(openxlsx)\n",
        "library(tidyverse)"
      ]
    },
    {
      "cell_type": "markdown",
      "source": [
        "Check whether everything is loaded"
      ],
      "metadata": {
        "id": "IEGAVteEAXM8"
      }
    },
    {
      "cell_type": "code",
      "source": [
        "(.packages())"
      ],
      "metadata": {
        "colab": {
          "base_uri": "https://localhost:8080/",
          "height": 69
        },
        "id": "V_75dNEbAVby",
        "outputId": "1d808d3f-11f8-4f50-a292-cc0368f3b47c"
      },
      "execution_count": null,
      "outputs": [
        {
          "output_type": "display_data",
          "data": {
            "text/html": [
              "<style>\n",
              ".list-inline {list-style: none; margin:0; padding: 0}\n",
              ".list-inline>li {display: inline-block}\n",
              ".list-inline>li:not(:last-child)::after {content: \"\\00b7\"; padding: 0 .5ex}\n",
              "</style>\n",
              "<ol class=list-inline><li>'forcats'</li><li>'purrr'</li><li>'readr'</li><li>'tidyr'</li><li>'tibble'</li><li>'ggplot2'</li><li>'tidyverse'</li><li>'openxlsx'</li><li>'tximport'</li><li>'gplots'</li><li>'stringr'</li><li>'dplyr'</li><li>'data.table'</li><li>'DESeq2'</li><li>'SummarizedExperiment'</li><li>'Biobase'</li><li>'MatrixGenerics'</li><li>'matrixStats'</li><li>'GenomicRanges'</li><li>'GenomeInfoDb'</li><li>'IRanges'</li><li>'S4Vectors'</li><li>'BiocGenerics'</li><li>'stats4'</li><li>'stringi'</li><li>'stats'</li><li>'graphics'</li><li>'grDevices'</li><li>'utils'</li><li>'datasets'</li><li>'methods'</li><li>'base'</li></ol>\n"
            ],
            "text/markdown": "1. 'forcats'\n2. 'purrr'\n3. 'readr'\n4. 'tidyr'\n5. 'tibble'\n6. 'ggplot2'\n7. 'tidyverse'\n8. 'openxlsx'\n9. 'tximport'\n10. 'gplots'\n11. 'stringr'\n12. 'dplyr'\n13. 'data.table'\n14. 'DESeq2'\n15. 'SummarizedExperiment'\n16. 'Biobase'\n17. 'MatrixGenerics'\n18. 'matrixStats'\n19. 'GenomicRanges'\n20. 'GenomeInfoDb'\n21. 'IRanges'\n22. 'S4Vectors'\n23. 'BiocGenerics'\n24. 'stats4'\n25. 'stringi'\n26. 'stats'\n27. 'graphics'\n28. 'grDevices'\n29. 'utils'\n30. 'datasets'\n31. 'methods'\n32. 'base'\n\n\n",
            "text/latex": "\\begin{enumerate*}\n\\item 'forcats'\n\\item 'purrr'\n\\item 'readr'\n\\item 'tidyr'\n\\item 'tibble'\n\\item 'ggplot2'\n\\item 'tidyverse'\n\\item 'openxlsx'\n\\item 'tximport'\n\\item 'gplots'\n\\item 'stringr'\n\\item 'dplyr'\n\\item 'data.table'\n\\item 'DESeq2'\n\\item 'SummarizedExperiment'\n\\item 'Biobase'\n\\item 'MatrixGenerics'\n\\item 'matrixStats'\n\\item 'GenomicRanges'\n\\item 'GenomeInfoDb'\n\\item 'IRanges'\n\\item 'S4Vectors'\n\\item 'BiocGenerics'\n\\item 'stats4'\n\\item 'stringi'\n\\item 'stats'\n\\item 'graphics'\n\\item 'grDevices'\n\\item 'utils'\n\\item 'datasets'\n\\item 'methods'\n\\item 'base'\n\\end{enumerate*}\n",
            "text/plain": [
              " [1] \"forcats\"              \"purrr\"                \"readr\"               \n",
              " [4] \"tidyr\"                \"tibble\"               \"ggplot2\"             \n",
              " [7] \"tidyverse\"            \"openxlsx\"             \"tximport\"            \n",
              "[10] \"gplots\"               \"stringr\"              \"dplyr\"               \n",
              "[13] \"data.table\"           \"DESeq2\"               \"SummarizedExperiment\"\n",
              "[16] \"Biobase\"              \"MatrixGenerics\"       \"matrixStats\"         \n",
              "[19] \"GenomicRanges\"        \"GenomeInfoDb\"         \"IRanges\"             \n",
              "[22] \"S4Vectors\"            \"BiocGenerics\"         \"stats4\"              \n",
              "[25] \"stringi\"              \"stats\"                \"graphics\"            \n",
              "[28] \"grDevices\"            \"utils\"                \"datasets\"            \n",
              "[31] \"methods\"              \"base\"                "
            ]
          },
          "metadata": {}
        }
      ]
    },
    {
      "cell_type": "markdown",
      "source": [
        "Import Salmon output"
      ],
      "metadata": {
        "id": "SItmdMV1DfQq"
      }
    },
    {
      "cell_type": "code",
      "source": [
        "files <- paste0(c(\"89quant.genes.sf\", \"90quant.genes.sf\", \"91quant.genes.sf\", \"92quant.genes.sf\", \"94quant.genes.sf\", \"95quant.genes.sf\", \"96quant.genes.sf\"))\n",
        "names(files) <- paste0('sample', c(89, 90, 91, 92, 94, 95, 96))\n",
        "\n",
        "txi.mut.wt <- tximport(files, \"salmon\", txOut = T, importer = read.delim)\n",
        "\n",
        "cat(\"Number of transcripts in Data Frame :\", nrow(txi.mut.wt$counts))\n",
        "head(txi.mut.wt$counts)"
      ],
      "metadata": {
        "colab": {
          "base_uri": "https://localhost:8080/",
          "height": 429
        },
        "id": "dNNa0M8sDDqu",
        "outputId": "ce0e8525-d519-41cd-83ad-d8da8ea1b964"
      },
      "execution_count": null,
      "outputs": [
        {
          "output_type": "stream",
          "name": "stderr",
          "text": [
            "1 \n",
            "2 \n",
            "3 \n",
            "4 \n",
            "5 \n",
            "6 \n",
            "7 \n",
            "\n",
            "\n"
          ]
        },
        {
          "output_type": "stream",
          "name": "stdout",
          "text": [
            "Number of transcripts in Data Frame : 13758"
          ]
        },
        {
          "output_type": "display_data",
          "data": {
            "text/html": [
              "<table class=\"dataframe\">\n",
              "<caption>A matrix: 6 × 7 of type dbl</caption>\n",
              "<thead>\n",
              "\t<tr><th></th><th scope=col>sample89</th><th scope=col>sample90</th><th scope=col>sample91</th><th scope=col>sample92</th><th scope=col>sample94</th><th scope=col>sample95</th><th scope=col>sample96</th></tr>\n",
              "</thead>\n",
              "<tbody>\n",
              "\t<tr><th scope=row>FBgn0031292</th><td>232.000</td><td>25</td><td> 8</td><td>12.000</td><td>164.000</td><td> 2.239</td><td>11.000</td></tr>\n",
              "\t<tr><th scope=row>FBgn0031289</th><td> 30.000</td><td> 4</td><td>10</td><td>22.000</td><td>  5.000</td><td> 5.000</td><td> 6.000</td></tr>\n",
              "\t<tr><th scope=row>FBgn0031288</th><td> 22.000</td><td> 6</td><td>10</td><td>13.000</td><td> 10.000</td><td> 4.000</td><td> 6.000</td></tr>\n",
              "\t<tr><th scope=row>FBgn0031282</th><td> 83.870</td><td>13</td><td>40</td><td>60.000</td><td> 41.358</td><td>35.000</td><td>74.000</td></tr>\n",
              "\t<tr><th scope=row>FBgn0031279</th><td> 49.458</td><td> 7</td><td> 0</td><td> 4.452</td><td> 43.733</td><td> 0.000</td><td> 1.316</td></tr>\n",
              "\t<tr><th scope=row>FBgn0031275</th><td> 66.000</td><td>10</td><td>26</td><td>19.001</td><td> 21.000</td><td>20.000</td><td>30.000</td></tr>\n",
              "</tbody>\n",
              "</table>\n"
            ],
            "text/markdown": "\nA matrix: 6 × 7 of type dbl\n\n| <!--/--> | sample89 | sample90 | sample91 | sample92 | sample94 | sample95 | sample96 |\n|---|---|---|---|---|---|---|---|\n| FBgn0031292 | 232.000 | 25 |  8 | 12.000 | 164.000 |  2.239 | 11.000 |\n| FBgn0031289 |  30.000 |  4 | 10 | 22.000 |   5.000 |  5.000 |  6.000 |\n| FBgn0031288 |  22.000 |  6 | 10 | 13.000 |  10.000 |  4.000 |  6.000 |\n| FBgn0031282 |  83.870 | 13 | 40 | 60.000 |  41.358 | 35.000 | 74.000 |\n| FBgn0031279 |  49.458 |  7 |  0 |  4.452 |  43.733 |  0.000 |  1.316 |\n| FBgn0031275 |  66.000 | 10 | 26 | 19.001 |  21.000 | 20.000 | 30.000 |\n\n",
            "text/latex": "A matrix: 6 × 7 of type dbl\n\\begin{tabular}{r|lllllll}\n  & sample89 & sample90 & sample91 & sample92 & sample94 & sample95 & sample96\\\\\n\\hline\n\tFBgn0031292 & 232.000 & 25 &  8 & 12.000 & 164.000 &  2.239 & 11.000\\\\\n\tFBgn0031289 &  30.000 &  4 & 10 & 22.000 &   5.000 &  5.000 &  6.000\\\\\n\tFBgn0031288 &  22.000 &  6 & 10 & 13.000 &  10.000 &  4.000 &  6.000\\\\\n\tFBgn0031282 &  83.870 & 13 & 40 & 60.000 &  41.358 & 35.000 & 74.000\\\\\n\tFBgn0031279 &  49.458 &  7 &  0 &  4.452 &  43.733 &  0.000 &  1.316\\\\\n\tFBgn0031275 &  66.000 & 10 & 26 & 19.001 &  21.000 & 20.000 & 30.000\\\\\n\\end{tabular}\n",
            "text/plain": [
              "            sample89 sample90 sample91 sample92 sample94 sample95 sample96\n",
              "FBgn0031292 232.000  25        8       12.000   164.000   2.239   11.000  \n",
              "FBgn0031289  30.000   4       10       22.000     5.000   5.000    6.000  \n",
              "FBgn0031288  22.000   6       10       13.000    10.000   4.000    6.000  \n",
              "FBgn0031282  83.870  13       40       60.000    41.358  35.000   74.000  \n",
              "FBgn0031279  49.458   7        0        4.452    43.733   0.000    1.316  \n",
              "FBgn0031275  66.000  10       26       19.001    21.000  20.000   30.000  "
            ]
          },
          "metadata": {}
        }
      ]
    },
    {
      "cell_type": "markdown",
      "source": [
        "Create colData matrix for DESeq2"
      ],
      "metadata": {
        "id": "t7Es0f93FAPd"
      }
    },
    {
      "cell_type": "code",
      "source": [
        "samples <- data.frame(row.names = names(files), sex = c(\"m\", \"m\", \"f\", \"f\", \"m\", \"f\", \"f\"), condition = c(\"mut\", \"mut\", \"mut\", \"mut\", \"wt\", \"wt\", \"wt\"))\n",
        "# ddsTxi <- DESeqDataSetFromTximport(txi.mut.wt, colData = samples, design = ~condition + sex + condition:sex)\n",
        "ddsTxi <- DESeqDataSetFromTximport(txi.mut.wt, colData = samples, design = ~sex + condition + sex:condition)\n",
        "keep <- rowSums(counts(ddsTxi)) > 0"
      ],
      "metadata": {
        "colab": {
          "base_uri": "https://localhost:8080/"
        },
        "id": "QAsSA5ZdE8zo",
        "outputId": "87beb271-12aa-44a3-c99c-eb38ac3a3232"
      },
      "execution_count": null,
      "outputs": [
        {
          "output_type": "stream",
          "name": "stderr",
          "text": [
            "Warning message in DESeqDataSet(se, design = design, ignoreRank):\n",
            "“some variables in design formula are characters, converting to factors”\n",
            "using counts and average transcript lengths from tximport\n",
            "\n"
          ]
        }
      ]
    },
    {
      "cell_type": "markdown",
      "source": [
        "DESeq2 Multiple factor analysis"
      ],
      "metadata": {
        "id": "go_jGjQMFm94"
      }
    },
    {
      "cell_type": "markdown",
      "source": [
        "This is our experiment design"
      ],
      "metadata": {
        "id": "h8-L9J2VMy7-"
      }
    },
    {
      "cell_type": "code",
      "source": [
        "ddsTxi$sex\n",
        "ddsTxi$condition\n",
        "\n",
        "colData(ddsTxi)"
      ],
      "metadata": {
        "colab": {
          "base_uri": "https://localhost:8080/",
          "height": 260
        },
        "id": "EcD2FLoEKd0P",
        "outputId": "958bd8eb-20d3-48b0-9590-3c233023fe88"
      },
      "execution_count": null,
      "outputs": [
        {
          "output_type": "display_data",
          "data": {
            "text/html": [
              "<style>\n",
              ".list-inline {list-style: none; margin:0; padding: 0}\n",
              ".list-inline>li {display: inline-block}\n",
              ".list-inline>li:not(:last-child)::after {content: \"\\00b7\"; padding: 0 .5ex}\n",
              "</style>\n",
              "<ol class=list-inline><li>m</li><li>m</li><li>f</li><li>f</li><li>m</li><li>f</li><li>f</li></ol>\n",
              "\n",
              "<details>\n",
              "\t<summary style=display:list-item;cursor:pointer>\n",
              "\t\t<strong>Levels</strong>:\n",
              "\t</summary>\n",
              "\t<style>\n",
              "\t.list-inline {list-style: none; margin:0; padding: 0}\n",
              "\t.list-inline>li {display: inline-block}\n",
              "\t.list-inline>li:not(:last-child)::after {content: \"\\00b7\"; padding: 0 .5ex}\n",
              "\t</style>\n",
              "\t<ol class=list-inline><li>'f'</li><li>'m'</li></ol>\n",
              "</details>"
            ],
            "text/markdown": "1. m\n2. m\n3. f\n4. f\n5. m\n6. f\n7. f\n\n\n\n**Levels**: 1. 'f'\n2. 'm'\n\n\n",
            "text/latex": "\\begin{enumerate*}\n\\item m\n\\item m\n\\item f\n\\item f\n\\item m\n\\item f\n\\item f\n\\end{enumerate*}\n\n\\emph{Levels}: \\begin{enumerate*}\n\\item 'f'\n\\item 'm'\n\\end{enumerate*}\n",
            "text/plain": [
              "[1] m m f f m f f\n",
              "Levels: f m"
            ]
          },
          "metadata": {}
        },
        {
          "output_type": "display_data",
          "data": {
            "text/html": [
              "<style>\n",
              ".list-inline {list-style: none; margin:0; padding: 0}\n",
              ".list-inline>li {display: inline-block}\n",
              ".list-inline>li:not(:last-child)::after {content: \"\\00b7\"; padding: 0 .5ex}\n",
              "</style>\n",
              "<ol class=list-inline><li>mut</li><li>mut</li><li>mut</li><li>mut</li><li>wt</li><li>wt</li><li>wt</li></ol>\n",
              "\n",
              "<details>\n",
              "\t<summary style=display:list-item;cursor:pointer>\n",
              "\t\t<strong>Levels</strong>:\n",
              "\t</summary>\n",
              "\t<style>\n",
              "\t.list-inline {list-style: none; margin:0; padding: 0}\n",
              "\t.list-inline>li {display: inline-block}\n",
              "\t.list-inline>li:not(:last-child)::after {content: \"\\00b7\"; padding: 0 .5ex}\n",
              "\t</style>\n",
              "\t<ol class=list-inline><li>'wt'</li><li>'mut'</li></ol>\n",
              "</details>"
            ],
            "text/markdown": "1. mut\n2. mut\n3. mut\n4. mut\n5. wt\n6. wt\n7. wt\n\n\n\n**Levels**: 1. 'wt'\n2. 'mut'\n\n\n",
            "text/latex": "\\begin{enumerate*}\n\\item mut\n\\item mut\n\\item mut\n\\item mut\n\\item wt\n\\item wt\n\\item wt\n\\end{enumerate*}\n\n\\emph{Levels}: \\begin{enumerate*}\n\\item 'wt'\n\\item 'mut'\n\\end{enumerate*}\n",
            "text/plain": [
              "[1] mut mut mut mut wt  wt  wt \n",
              "Levels: wt mut"
            ]
          },
          "metadata": {}
        },
        {
          "output_type": "display_data",
          "data": {
            "text/plain": [
              "DataFrame with 7 rows and 2 columns\n",
              "              sex condition\n",
              "         <factor>  <factor>\n",
              "sample89        m       mut\n",
              "sample90        m       mut\n",
              "sample91        f       mut\n",
              "sample92        f       mut\n",
              "sample94        m       wt \n",
              "sample95        f       wt \n",
              "sample96        f       wt "
            ]
          },
          "metadata": {}
        }
      ]
    },
    {
      "cell_type": "markdown",
      "source": [
        "Relevel data"
      ],
      "metadata": {
        "id": "xiJdpnexNDJc"
      }
    },
    {
      "cell_type": "code",
      "source": [
        "ddsTxi$condition <- relevel(ddsTxi$condition, \"wt\")\n",
        "ddsTxi$sex <- relevel(ddsTxi$sex, \"m\")\n",
        "ddsTxi$condition\n",
        "ddsTxi$sex"
      ],
      "metadata": {
        "colab": {
          "base_uri": "https://localhost:8080/",
          "height": 121
        },
        "id": "Qe1wY9_TNGEf",
        "outputId": "65eea593-9211-4579-b214-7c977b94aba7"
      },
      "execution_count": null,
      "outputs": [
        {
          "output_type": "display_data",
          "data": {
            "text/html": [
              "<style>\n",
              ".list-inline {list-style: none; margin:0; padding: 0}\n",
              ".list-inline>li {display: inline-block}\n",
              ".list-inline>li:not(:last-child)::after {content: \"\\00b7\"; padding: 0 .5ex}\n",
              "</style>\n",
              "<ol class=list-inline><li>mut</li><li>mut</li><li>mut</li><li>mut</li><li>wt</li><li>wt</li><li>wt</li></ol>\n",
              "\n",
              "<details>\n",
              "\t<summary style=display:list-item;cursor:pointer>\n",
              "\t\t<strong>Levels</strong>:\n",
              "\t</summary>\n",
              "\t<style>\n",
              "\t.list-inline {list-style: none; margin:0; padding: 0}\n",
              "\t.list-inline>li {display: inline-block}\n",
              "\t.list-inline>li:not(:last-child)::after {content: \"\\00b7\"; padding: 0 .5ex}\n",
              "\t</style>\n",
              "\t<ol class=list-inline><li>'wt'</li><li>'mut'</li></ol>\n",
              "</details>"
            ],
            "text/markdown": "1. mut\n2. mut\n3. mut\n4. mut\n5. wt\n6. wt\n7. wt\n\n\n\n**Levels**: 1. 'wt'\n2. 'mut'\n\n\n",
            "text/latex": "\\begin{enumerate*}\n\\item mut\n\\item mut\n\\item mut\n\\item mut\n\\item wt\n\\item wt\n\\item wt\n\\end{enumerate*}\n\n\\emph{Levels}: \\begin{enumerate*}\n\\item 'wt'\n\\item 'mut'\n\\end{enumerate*}\n",
            "text/plain": [
              "[1] mut mut mut mut wt  wt  wt \n",
              "Levels: wt mut"
            ]
          },
          "metadata": {}
        },
        {
          "output_type": "display_data",
          "data": {
            "text/html": [
              "<style>\n",
              ".list-inline {list-style: none; margin:0; padding: 0}\n",
              ".list-inline>li {display: inline-block}\n",
              ".list-inline>li:not(:last-child)::after {content: \"\\00b7\"; padding: 0 .5ex}\n",
              "</style>\n",
              "<ol class=list-inline><li>m</li><li>m</li><li>f</li><li>f</li><li>m</li><li>f</li><li>f</li></ol>\n",
              "\n",
              "<details>\n",
              "\t<summary style=display:list-item;cursor:pointer>\n",
              "\t\t<strong>Levels</strong>:\n",
              "\t</summary>\n",
              "\t<style>\n",
              "\t.list-inline {list-style: none; margin:0; padding: 0}\n",
              "\t.list-inline>li {display: inline-block}\n",
              "\t.list-inline>li:not(:last-child)::after {content: \"\\00b7\"; padding: 0 .5ex}\n",
              "\t</style>\n",
              "\t<ol class=list-inline><li>'m'</li><li>'f'</li></ol>\n",
              "</details>"
            ],
            "text/markdown": "1. m\n2. m\n3. f\n4. f\n5. m\n6. f\n7. f\n\n\n\n**Levels**: 1. 'm'\n2. 'f'\n\n\n",
            "text/latex": "\\begin{enumerate*}\n\\item m\n\\item m\n\\item f\n\\item f\n\\item m\n\\item f\n\\item f\n\\end{enumerate*}\n\n\\emph{Levels}: \\begin{enumerate*}\n\\item 'm'\n\\item 'f'\n\\end{enumerate*}\n",
            "text/plain": [
              "[1] m m f f m f f\n",
              "Levels: m f"
            ]
          },
          "metadata": {}
        }
      ]
    },
    {
      "cell_type": "code",
      "source": [
        "dds <- DESeq(ddsTxi)\n",
        "resultsNames(dds)"
      ],
      "metadata": {
        "colab": {
          "base_uri": "https://localhost:8080/",
          "height": 277
        },
        "id": "Nv9YiqNNLt5y",
        "outputId": "c1931fa9-3a52-401c-b9cc-3be4a5396775"
      },
      "execution_count": null,
      "outputs": [
        {
          "output_type": "stream",
          "name": "stderr",
          "text": [
            "estimating size factors\n",
            "\n",
            "using 'avgTxLength' from assays(dds), correcting for library size\n",
            "\n",
            "estimating dispersions\n",
            "\n",
            "gene-wise dispersion estimates\n",
            "\n",
            "mean-dispersion relationship\n",
            "\n",
            "final dispersion estimates\n",
            "\n",
            "fitting model and testing\n",
            "\n"
          ]
        },
        {
          "output_type": "display_data",
          "data": {
            "text/html": [
              "<style>\n",
              ".list-inline {list-style: none; margin:0; padding: 0}\n",
              ".list-inline>li {display: inline-block}\n",
              ".list-inline>li:not(:last-child)::after {content: \"\\00b7\"; padding: 0 .5ex}\n",
              "</style>\n",
              "<ol class=list-inline><li>'Intercept'</li><li>'sex_f_vs_m'</li><li>'condition_mut_vs_wt'</li><li>'sexf.conditionmut'</li></ol>\n"
            ],
            "text/markdown": "1. 'Intercept'\n2. 'sex_f_vs_m'\n3. 'condition_mut_vs_wt'\n4. 'sexf.conditionmut'\n\n\n",
            "text/latex": "\\begin{enumerate*}\n\\item 'Intercept'\n\\item 'sex\\_f\\_vs\\_m'\n\\item 'condition\\_mut\\_vs\\_wt'\n\\item 'sexf.conditionmut'\n\\end{enumerate*}\n",
            "text/plain": [
              "[1] \"Intercept\"           \"sex_f_vs_m\"          \"condition_mut_vs_wt\"\n",
              "[4] \"sexf.conditionmut\"  "
            ]
          },
          "metadata": {}
        }
      ]
    },
    {
      "cell_type": "markdown",
      "source": [
        "Understand how to use the 'contrast' option to output the right results"
      ],
      "metadata": {
        "id": "fN9cFldsVxrJ"
      }
    },
    {
      "cell_type": "code",
      "source": [
        "qdds <- makeExampleDESeqDataSet(n=100,m=12)\n",
        "qdds$genotype <- factor(rep(rep(c(\"I\",\"II\"),each=3),2))\n",
        "qdds$genotype\n",
        "\n",
        "design(qdds) <- ~ genotype + condition + genotype:condition\n",
        "qdds <- DESeq(qdds) \n",
        "resultsNames(qdds)\n",
        "\n",
        "# Note: design with interactions terms by default have betaPrior=FALSE\n",
        "\n",
        "# the condition effect for genotype I (the main effect)\n",
        "# results(qdds, contrast=c(\"condition\",\"B\",\"A\"))"
      ],
      "metadata": {
        "id": "L36jkrZkVC3K"
      },
      "execution_count": null,
      "outputs": []
    },
    {
      "cell_type": "markdown",
      "source": [
        "Divide results of DESeq2 to different variables"
      ],
      "metadata": {
        "id": "jViU-ivcGfzz"
      }
    },
    {
      "cell_type": "code",
      "source": [
        "res_ms <- results(dds, contrast=c(\"condition\",\"mut\",\"wt\"))\n",
        "res_fs <- results(dds, list(c(\"condition_mut_vs_wt\",\"sexf.conditionmut\")))\n",
        "res_muts <- results(dds, list(c(\"sex_f_vs_m\", \"sexf.conditionmut\")))\n",
        "res_wts <- results(dds, contrast=c(\"sex\", \"f\", \"m\"))\n",
        "\n",
        "resultsNames(dds)"
      ],
      "metadata": {
        "colab": {
          "base_uri": "https://localhost:8080/",
          "height": 35
        },
        "id": "nkwyRSQ1GlRf",
        "outputId": "6225aa78-a0ae-4c46-bd42-c7209af7273b"
      },
      "execution_count": null,
      "outputs": [
        {
          "output_type": "display_data",
          "data": {
            "text/html": [
              "<style>\n",
              ".list-inline {list-style: none; margin:0; padding: 0}\n",
              ".list-inline>li {display: inline-block}\n",
              ".list-inline>li:not(:last-child)::after {content: \"\\00b7\"; padding: 0 .5ex}\n",
              "</style>\n",
              "<ol class=list-inline><li>'Intercept'</li><li>'sex_f_vs_m'</li><li>'condition_mut_vs_wt'</li><li>'sexf.conditionmut'</li></ol>\n"
            ],
            "text/markdown": "1. 'Intercept'\n2. 'sex_f_vs_m'\n3. 'condition_mut_vs_wt'\n4. 'sexf.conditionmut'\n\n\n",
            "text/latex": "\\begin{enumerate*}\n\\item 'Intercept'\n\\item 'sex\\_f\\_vs\\_m'\n\\item 'condition\\_mut\\_vs\\_wt'\n\\item 'sexf.conditionmut'\n\\end{enumerate*}\n",
            "text/plain": [
              "[1] \"Intercept\"           \"sex_f_vs_m\"          \"condition_mut_vs_wt\"\n",
              "[4] \"sexf.conditionmut\"  "
            ]
          },
          "metadata": {}
        }
      ]
    },
    {
      "cell_type": "markdown",
      "source": [
        "Visualize data with plotMA"
      ],
      "metadata": {
        "id": "M95zf3oFb6Me"
      }
    },
    {
      "cell_type": "code",
      "source": [
        "pdf(\"ms_MAplot.pdf\")\n",
        "DESeq2::plotMA(res_ms, alpha = 0.05, ylim=c(-6, 6), cooks.Cutoff = FALSE)\n",
        "dev.off()\n",
        "\n",
        "pdf(\"fs_MAplot.pdf\")\n",
        "DESeq2::plotMA(res_fs, alpha = 0.05, ylim=c(-6, 6))\n",
        "dev.off()\n",
        "\n",
        "pdf(\"muts_MAplot.pdf\")\n",
        "DESeq2::plotMA(res_muts, alpha = 0.05, ylim=c(-6, 6))\n",
        "dev.off()\n",
        "\n",
        "pdf(\"wts_MAplot.pdf\")\n",
        "DESeq2::plotMA(res_wts, alpha = 0.05, ylim=c(-6, 6))\n",
        "dev.off()"
      ],
      "metadata": {
        "colab": {
          "base_uri": "https://localhost:8080/",
          "height": 295
        },
        "id": "LROmeBIAb7Ae",
        "outputId": "2055ac32-8767-4480-c447-98174c7b0537"
      },
      "execution_count": null,
      "outputs": [
        {
          "output_type": "stream",
          "name": "stderr",
          "text": [
            "Warning message in plot.window(...):\n",
            "“\"cooks.Cutoff\" is not a graphical parameter”\n",
            "Warning message in plot.xy(xy, type, ...):\n",
            "“\"cooks.Cutoff\" is not a graphical parameter”\n",
            "Warning message in axis(side = side, at = at, labels = labels, ...):\n",
            "“\"cooks.Cutoff\" is not a graphical parameter”\n",
            "Warning message in axis(side = side, at = at, labels = labels, ...):\n",
            "“\"cooks.Cutoff\" is not a graphical parameter”\n",
            "Warning message in box(...):\n",
            "“\"cooks.Cutoff\" is not a graphical parameter”\n",
            "Warning message in title(...):\n",
            "“\"cooks.Cutoff\" is not a graphical parameter”\n"
          ]
        },
        {
          "output_type": "display_data",
          "data": {
            "text/html": [
              "<strong>png:</strong> 2"
            ],
            "text/markdown": "**png:** 2",
            "text/latex": "\\textbf{png:} 2",
            "text/plain": [
              "png \n",
              "  2 "
            ]
          },
          "metadata": {}
        },
        {
          "output_type": "display_data",
          "data": {
            "text/html": [
              "<strong>png:</strong> 2"
            ],
            "text/markdown": "**png:** 2",
            "text/latex": "\\textbf{png:} 2",
            "text/plain": [
              "png \n",
              "  2 "
            ]
          },
          "metadata": {}
        },
        {
          "output_type": "display_data",
          "data": {
            "text/html": [
              "<strong>png:</strong> 2"
            ],
            "text/markdown": "**png:** 2",
            "text/latex": "\\textbf{png:} 2",
            "text/plain": [
              "png \n",
              "  2 "
            ]
          },
          "metadata": {}
        },
        {
          "output_type": "display_data",
          "data": {
            "text/html": [
              "<strong>png:</strong> 2"
            ],
            "text/markdown": "**png:** 2",
            "text/latex": "\\textbf{png:} 2",
            "text/plain": [
              "png \n",
              "  2 "
            ]
          },
          "metadata": {}
        }
      ]
    },
    {
      "cell_type": "code",
      "source": [
        "summary(res_ms, alpha = 0.05)\n",
        "summary(res_fs, alpha = 0.05)\n",
        "summary(res_muts, alpha = 0.05)\n",
        "summary(res_wts, alpha = 0.05)"
      ],
      "metadata": {
        "colab": {
          "base_uri": "https://localhost:8080/"
        },
        "id": "xR8jd6Vdc-7D",
        "outputId": "c4dee9ba-4563-4fab-9fe9-2232c64ed87d"
      },
      "execution_count": null,
      "outputs": [
        {
          "output_type": "stream",
          "name": "stdout",
          "text": [
            "\n",
            "out of 13444 with nonzero total read count\n",
            "adjusted p-value < 0.05\n",
            "LFC > 0 (up)       : 158, 1.2%\n",
            "LFC < 0 (down)     : 235, 1.7%\n",
            "outliers [1]       : 0, 0%\n",
            "low counts [2]     : 1823, 14%\n",
            "(mean count < 6)\n",
            "[1] see 'cooksCutoff' argument of ?results\n",
            "[2] see 'independentFiltering' argument of ?results\n",
            "\n",
            "\n",
            "out of 13444 with nonzero total read count\n",
            "adjusted p-value < 0.05\n",
            "LFC > 0 (up)       : 300, 2.2%\n",
            "LFC < 0 (down)     : 513, 3.8%\n",
            "outliers [1]       : 0, 0%\n",
            "low counts [2]     : 1823, 14%\n",
            "(mean count < 6)\n",
            "[1] see 'cooksCutoff' argument of ?results\n",
            "[2] see 'independentFiltering' argument of ?results\n",
            "\n",
            "\n",
            "out of 13444 with nonzero total read count\n",
            "adjusted p-value < 0.05\n",
            "LFC > 0 (up)       : 270, 2%\n",
            "LFC < 0 (down)     : 1534, 11%\n",
            "outliers [1]       : 0, 0%\n",
            "low counts [2]     : 0, 0%\n",
            "(mean count < 0)\n",
            "[1] see 'cooksCutoff' argument of ?results\n",
            "[2] see 'independentFiltering' argument of ?results\n",
            "\n",
            "\n",
            "out of 13444 with nonzero total read count\n",
            "adjusted p-value < 0.05\n",
            "LFC > 0 (up)       : 188, 1.4%\n",
            "LFC < 0 (down)     : 1538, 11%\n",
            "outliers [1]       : 0, 0%\n",
            "low counts [2]     : 781, 5.8%\n",
            "(mean count < 1)\n",
            "[1] see 'cooksCutoff' argument of ?results\n",
            "[2] see 'independentFiltering' argument of ?results\n",
            "\n"
          ]
        }
      ]
    },
    {
      "cell_type": "markdown",
      "source": [
        "Shrink data (which helps to get rid of the noise according to M. Love)"
      ],
      "metadata": {
        "id": "WJMG8QhXGl14"
      }
    },
    {
      "cell_type": "code",
      "source": [
        "ms_resLFC <- lfcShrink(dds, coef = \"conditions_mut_vs_wt\", type = \"apeglm\",\n",
        "                    lfcThreshold = 1)\n",
        "fs_resLFC <- lfcShrink(dds, coef = \"conditions_mut_vs_wt\", type = \"apeglm\",\n",
        "                    lfcThreshold = 1)\n",
        "muts_resLFC <- lfcShrink(dds, coef = \"conditions_mut_vs_wt\", type = \"apeglm\",\n",
        "                    lfcThreshold = 1)\n",
        "wts_resLFC <- lfcShrink(dds, coef = \"conditions_mut_vs_wt\", type = \"apeglm\",\n",
        "                    lfcThreshold = 1)\n",
        "\n",
        "pdf(\"ms_MAplot_shrunk.pdf\")\n",
        "DESeq2::plotMA(ms_resLFC, alpha = 0.05, ylim=c(-6, 6))\n",
        "dev.off()\n",
        "\n",
        "pdf(\"fs_MAplot_shrunk.pdf\")\n",
        "DESeq2::plotMA(fs_resLFC, alpha = 0.05, ylim=c(-6, 6))\n",
        "dev.off()\n",
        "\n",
        "pdf(\"muts_MAplot_shrunk.pdf\")\n",
        "DESeq2::plotMA(muts_resLFC, alpha = 0.05, ylim=c(-6, 6))\n",
        "dev.off()\n",
        "\n",
        "pdf(\"wts_MAplot_shrunk.pdf\")\n",
        "DESeq2::plotMA(wts_resLFC, alpha = 0.05, ylim=c(-6, 6))\n",
        "dev.off()\n",
        "summary(res, alpha = 0.05)"
      ],
      "metadata": {
        "id": "xP1rLKXNGt4b"
      },
      "execution_count": null,
      "outputs": []
    },
    {
      "cell_type": "markdown",
      "source": [
        "Order gene expression data by lfc value and save as a table"
      ],
      "metadata": {
        "id": "5nkw0yjgG_Zb"
      }
    },
    {
      "cell_type": "code",
      "source": [
        "head(res_ms)"
      ],
      "metadata": {
        "colab": {
          "base_uri": "https://localhost:8080/",
          "height": 208
        },
        "id": "hF-bHMEgfZ0u",
        "outputId": "87511a01-bdfe-4a28-e975-ea9af77afe0e"
      },
      "execution_count": null,
      "outputs": [
        {
          "output_type": "display_data",
          "data": {
            "text/plain": [
              "log2 fold change (MLE): condition mut vs wt \n",
              "Wald test p-value: condition mut vs wt \n",
              "DataFrame with 6 rows and 6 columns\n",
              "             baseMean log2FoldChange     lfcSE       stat    pvalue      padj\n",
              "            <numeric>      <numeric> <numeric>  <numeric> <numeric> <numeric>\n",
              "FBgn0031292  63.00621     -1.2174969  0.597155 -2.0388292 0.0414671  0.461579\n",
              "FBgn0031289   9.68462      1.0748568  1.289775  0.8333674 0.4046376  0.979068\n",
              "FBgn0031288   9.76883      0.0914412  1.171870  0.0780301 0.9378041  0.998267\n",
              "FBgn0031282  43.47912     -0.4380006  0.588830 -0.7438494 0.4569676  0.984515\n",
              "FBgn0031279  21.87873     -1.3657309  0.950998 -1.4361035 0.1509729  0.793325\n",
              "FBgn0031275  24.30377      0.2262799  0.819962  0.2759639 0.7825758  0.998267"
            ]
          },
          "metadata": {}
        }
      ]
    },
    {
      "cell_type": "code",
      "source": [
        "head(as.data.frame(res_ms))"
      ],
      "metadata": {
        "colab": {
          "base_uri": "https://localhost:8080/",
          "height": 286
        },
        "id": "FYJ8iTHShpTr",
        "outputId": "2ef92b77-ce24-49cb-edde-9cfd8dcc9ff4"
      },
      "execution_count": null,
      "outputs": [
        {
          "output_type": "display_data",
          "data": {
            "text/html": [
              "<table class=\"dataframe\">\n",
              "<caption>A data.frame: 6 × 6</caption>\n",
              "<thead>\n",
              "\t<tr><th></th><th scope=col>baseMean</th><th scope=col>log2FoldChange</th><th scope=col>lfcSE</th><th scope=col>stat</th><th scope=col>pvalue</th><th scope=col>padj</th></tr>\n",
              "\t<tr><th></th><th scope=col>&lt;dbl&gt;</th><th scope=col>&lt;dbl&gt;</th><th scope=col>&lt;dbl&gt;</th><th scope=col>&lt;dbl&gt;</th><th scope=col>&lt;dbl&gt;</th><th scope=col>&lt;dbl&gt;</th></tr>\n",
              "</thead>\n",
              "<tbody>\n",
              "\t<tr><th scope=row>FBgn0031292</th><td>63.006206</td><td>-1.21749694</td><td>0.5971550</td><td>-2.03882917</td><td>0.04146708</td><td>0.4615794</td></tr>\n",
              "\t<tr><th scope=row>FBgn0031289</th><td> 9.684616</td><td> 1.07485678</td><td>1.2897754</td><td> 0.83336740</td><td>0.40463756</td><td>0.9790677</td></tr>\n",
              "\t<tr><th scope=row>FBgn0031288</th><td> 9.768825</td><td> 0.09144116</td><td>1.1718701</td><td> 0.07803012</td><td>0.93780409</td><td>0.9982671</td></tr>\n",
              "\t<tr><th scope=row>FBgn0031282</th><td>43.479117</td><td>-0.43800057</td><td>0.5888297</td><td>-0.74384937</td><td>0.45696761</td><td>0.9845153</td></tr>\n",
              "\t<tr><th scope=row>FBgn0031279</th><td>21.878734</td><td>-1.36573092</td><td>0.9509976</td><td>-1.43610346</td><td>0.15097290</td><td>0.7933252</td></tr>\n",
              "\t<tr><th scope=row>FBgn0031275</th><td>24.303772</td><td> 0.22627992</td><td>0.8199619</td><td> 0.27596394</td><td>0.78257576</td><td>0.9982671</td></tr>\n",
              "</tbody>\n",
              "</table>\n"
            ],
            "text/markdown": "\nA data.frame: 6 × 6\n\n| <!--/--> | baseMean &lt;dbl&gt; | log2FoldChange &lt;dbl&gt; | lfcSE &lt;dbl&gt; | stat &lt;dbl&gt; | pvalue &lt;dbl&gt; | padj &lt;dbl&gt; |\n|---|---|---|---|---|---|---|\n| FBgn0031292 | 63.006206 | -1.21749694 | 0.5971550 | -2.03882917 | 0.04146708 | 0.4615794 |\n| FBgn0031289 |  9.684616 |  1.07485678 | 1.2897754 |  0.83336740 | 0.40463756 | 0.9790677 |\n| FBgn0031288 |  9.768825 |  0.09144116 | 1.1718701 |  0.07803012 | 0.93780409 | 0.9982671 |\n| FBgn0031282 | 43.479117 | -0.43800057 | 0.5888297 | -0.74384937 | 0.45696761 | 0.9845153 |\n| FBgn0031279 | 21.878734 | -1.36573092 | 0.9509976 | -1.43610346 | 0.15097290 | 0.7933252 |\n| FBgn0031275 | 24.303772 |  0.22627992 | 0.8199619 |  0.27596394 | 0.78257576 | 0.9982671 |\n\n",
            "text/latex": "A data.frame: 6 × 6\n\\begin{tabular}{r|llllll}\n  & baseMean & log2FoldChange & lfcSE & stat & pvalue & padj\\\\\n  & <dbl> & <dbl> & <dbl> & <dbl> & <dbl> & <dbl>\\\\\n\\hline\n\tFBgn0031292 & 63.006206 & -1.21749694 & 0.5971550 & -2.03882917 & 0.04146708 & 0.4615794\\\\\n\tFBgn0031289 &  9.684616 &  1.07485678 & 1.2897754 &  0.83336740 & 0.40463756 & 0.9790677\\\\\n\tFBgn0031288 &  9.768825 &  0.09144116 & 1.1718701 &  0.07803012 & 0.93780409 & 0.9982671\\\\\n\tFBgn0031282 & 43.479117 & -0.43800057 & 0.5888297 & -0.74384937 & 0.45696761 & 0.9845153\\\\\n\tFBgn0031279 & 21.878734 & -1.36573092 & 0.9509976 & -1.43610346 & 0.15097290 & 0.7933252\\\\\n\tFBgn0031275 & 24.303772 &  0.22627992 & 0.8199619 &  0.27596394 & 0.78257576 & 0.9982671\\\\\n\\end{tabular}\n",
            "text/plain": [
              "            baseMean  log2FoldChange lfcSE     stat        pvalue     padj     \n",
              "FBgn0031292 63.006206 -1.21749694    0.5971550 -2.03882917 0.04146708 0.4615794\n",
              "FBgn0031289  9.684616  1.07485678    1.2897754  0.83336740 0.40463756 0.9790677\n",
              "FBgn0031288  9.768825  0.09144116    1.1718701  0.07803012 0.93780409 0.9982671\n",
              "FBgn0031282 43.479117 -0.43800057    0.5888297 -0.74384937 0.45696761 0.9845153\n",
              "FBgn0031279 21.878734 -1.36573092    0.9509976 -1.43610346 0.15097290 0.7933252\n",
              "FBgn0031275 24.303772  0.22627992    0.8199619  0.27596394 0.78257576 0.9982671"
            ]
          },
          "metadata": {}
        }
      ]
    },
    {
      "cell_type": "code",
      "source": [
        "# transform IS NOT CURRENTLY POSSIBLE ON COLAB\n",
        "# genes <- fread(\"dmel-all-r6.41_NOFASTA.gff\", nThread = 10, showProgress = TRUE, verbose = TRUE) %>% \n",
        "  # dplyr::select(c(1, 4, 5, 7, 9)) %>% \n",
        "  # setNames(c(\"chr\", \"start\", \"end\", \"strand\", \"attr\")) %>% \n",
        "  # mutate(id = sub('^ID=(FBgn[0-9]+);.*', '\\\\1', attr), chr = paste0(\"chr\", chr), gene_name = sub('.*Name=([^;]+);.*', '\\\\1', attr), tss = ifelse(strand == \"+\", start, end)) %>% \n",
        "  #dplyr::select(-attr)\n",
        "\n",
        "# ms_res.df <- as.data.frame(res_ms) %>% mutate(id = rownames(res_ms))\n",
        "# fs_res.df <- as.data.frame(res_fs) %>% mutate(id = rownames(res_fs))\n",
        "# muts_res.df <- as.data.frame(res_muts) %>% mutate(id = rownames(res_muts))\n",
        "# wts_res.df <- as.data.frame(res_wts) %>% mutate(id = rownames(res_wts))\n",
        "\n",
        "# ms_res.df <- merge(genes, ms_res.df, by = \"id\", all.y = T)\n",
        "# fs_res.df <- merge(genes, fs_res.df, by = \"id\", all.y = T)\n",
        "# muts_res.df <- merge(genes, muts_res.df, by = \"id\", all.y = T)\n",
        "# wts_res.df <- merge(genes, wts_res.df, by = \"id\", all.y = T)\n",
        "# write.xlsx(res.df, file = \"base_results.xlsx\", dec = \",\")\n",
        "# res.df %>% filter(is.na(gene_name)) %>% View\n",
        "\n",
        "ms_res.df <- as.data.frame(res_ms)\n",
        "fs_res.df <- as.data.frame(res_fs)\n",
        "muts_res.df <- as.data.frame(res_muts)\n",
        "wts_res.df <- as.data.frame(res_wts)"
      ],
      "metadata": {
        "id": "n2Oa71r3HViv"
      },
      "execution_count": null,
      "outputs": []
    },
    {
      "cell_type": "code",
      "source": [
        "library(\"dplyr\")"
      ],
      "metadata": {
        "id": "5FOP7x6XjP0O"
      },
      "execution_count": null,
      "outputs": []
    },
    {
      "cell_type": "code",
      "source": [
        "# filter\n",
        "ms_ranking <- filter(ms_res.df, ms_res.df$padj < 0.05, abs(ms_res.df$log2FoldChange) > 0)\n",
        "fs_ranking <- filter(fs_res.df, ms_res.df$padj < 0.05, abs(fs_res.df$log2FoldChange) > 0)\n",
        "muts_ranking <- filter(muts_res.df, ms_res.df$padj < 0.05, abs(muts_res.df$log2FoldChange) > 0)\n",
        "wts_ranking <- filter(wts_res.df, ms_res.df$padj < 0.05, abs(wts_res.df$log2FoldChange) > 0)"
      ],
      "metadata": {
        "id": "4XZHvjzGjirv"
      },
      "execution_count": null,
      "outputs": []
    },
    {
      "cell_type": "code",
      "source": [
        "# order final.data[order(final.data$age),]\n",
        "ms_ordered_ranking <- ms_ranking[order(-ms_ranking$log2FoldChange),]\n",
        "fs_ordered_ranking <- fs_ranking[order(-fs_ranking$log2FoldChange),]\n",
        "muts_ordered_ranking <- muts_ranking[order(-muts_ranking$log2FoldChange),]\n",
        "wts_ordered_ranking <- wts_ranking[order(-wts_ranking$log2FoldChange),]\n",
        "\n",
        "setDT(ms_ordered_ranking, keep.rownames = \"gene_id\")\n",
        "setDT(fs_ordered_ranking, keep.rownames = \"gene_id\")\n",
        "setDT(muts_ordered_ranking, keep.rownames = \"gene_id\")\n",
        "setDT(wts_ordered_ranking, keep.rownames = \"gene_id\")"
      ],
      "metadata": {
        "id": "vTw-jDscizso"
      },
      "execution_count": null,
      "outputs": []
    },
    {
      "cell_type": "code",
      "source": [
        "head(ms_ordered_ranking)"
      ],
      "metadata": {
        "colab": {
          "base_uri": "https://localhost:8080/",
          "height": 286
        },
        "id": "mMxWBJqAoMjh",
        "outputId": "5f33aeae-0ad9-4f6f-a361-53f73c9c0ef0"
      },
      "execution_count": null,
      "outputs": [
        {
          "output_type": "display_data",
          "data": {
            "text/html": [
              "<table class=\"dataframe\">\n",
              "<caption>A data.table: 6 × 7</caption>\n",
              "<thead>\n",
              "\t<tr><th scope=col>gene_id</th><th scope=col>baseMean</th><th scope=col>log2FoldChange</th><th scope=col>lfcSE</th><th scope=col>stat</th><th scope=col>pvalue</th><th scope=col>padj</th></tr>\n",
              "\t<tr><th scope=col>&lt;chr&gt;</th><th scope=col>&lt;dbl&gt;</th><th scope=col>&lt;dbl&gt;</th><th scope=col>&lt;dbl&gt;</th><th scope=col>&lt;dbl&gt;</th><th scope=col>&lt;dbl&gt;</th><th scope=col>&lt;dbl&gt;</th></tr>\n",
              "</thead>\n",
              "<tbody>\n",
              "\t<tr><td>FBgn0283462</td><td>130.34219</td><td>21.262287</td><td>5.948633</td><td>3.574315</td><td>3.511464e-04</td><td>1.416746e-02</td></tr>\n",
              "\t<tr><td>FBgn0050031</td><td>260.24240</td><td>20.231270</td><td>5.948630</td><td>3.400997</td><td>6.714069e-04</td><td>2.492786e-02</td></tr>\n",
              "\t<tr><td>FBgn0053872</td><td>825.16896</td><td>11.301623</td><td>2.062024</td><td>5.480839</td><td>4.233124e-08</td><td>5.071457e-06</td></tr>\n",
              "\t<tr><td>FBgn0053852</td><td>254.29437</td><td>10.643743</td><td>2.315333</td><td>4.597069</td><td>4.284757e-06</td><td>3.222610e-04</td></tr>\n",
              "\t<tr><td>FBgn0263121</td><td>152.07766</td><td> 9.447224</td><td>2.081591</td><td>4.538464</td><td>5.666550e-06</td><td>3.919701e-04</td></tr>\n",
              "\t<tr><td>FBgn0032286</td><td> 77.51381</td><td> 9.202157</td><td>2.094166</td><td>4.394186</td><td>1.111885e-05</td><td>6.909741e-04</td></tr>\n",
              "</tbody>\n",
              "</table>\n"
            ],
            "text/markdown": "\nA data.table: 6 × 7\n\n| gene_id &lt;chr&gt; | baseMean &lt;dbl&gt; | log2FoldChange &lt;dbl&gt; | lfcSE &lt;dbl&gt; | stat &lt;dbl&gt; | pvalue &lt;dbl&gt; | padj &lt;dbl&gt; |\n|---|---|---|---|---|---|---|\n| FBgn0283462 | 130.34219 | 21.262287 | 5.948633 | 3.574315 | 3.511464e-04 | 1.416746e-02 |\n| FBgn0050031 | 260.24240 | 20.231270 | 5.948630 | 3.400997 | 6.714069e-04 | 2.492786e-02 |\n| FBgn0053872 | 825.16896 | 11.301623 | 2.062024 | 5.480839 | 4.233124e-08 | 5.071457e-06 |\n| FBgn0053852 | 254.29437 | 10.643743 | 2.315333 | 4.597069 | 4.284757e-06 | 3.222610e-04 |\n| FBgn0263121 | 152.07766 |  9.447224 | 2.081591 | 4.538464 | 5.666550e-06 | 3.919701e-04 |\n| FBgn0032286 |  77.51381 |  9.202157 | 2.094166 | 4.394186 | 1.111885e-05 | 6.909741e-04 |\n\n",
            "text/latex": "A data.table: 6 × 7\n\\begin{tabular}{lllllll}\n gene\\_id & baseMean & log2FoldChange & lfcSE & stat & pvalue & padj\\\\\n <chr> & <dbl> & <dbl> & <dbl> & <dbl> & <dbl> & <dbl>\\\\\n\\hline\n\t FBgn0283462 & 130.34219 & 21.262287 & 5.948633 & 3.574315 & 3.511464e-04 & 1.416746e-02\\\\\n\t FBgn0050031 & 260.24240 & 20.231270 & 5.948630 & 3.400997 & 6.714069e-04 & 2.492786e-02\\\\\n\t FBgn0053872 & 825.16896 & 11.301623 & 2.062024 & 5.480839 & 4.233124e-08 & 5.071457e-06\\\\\n\t FBgn0053852 & 254.29437 & 10.643743 & 2.315333 & 4.597069 & 4.284757e-06 & 3.222610e-04\\\\\n\t FBgn0263121 & 152.07766 &  9.447224 & 2.081591 & 4.538464 & 5.666550e-06 & 3.919701e-04\\\\\n\t FBgn0032286 &  77.51381 &  9.202157 & 2.094166 & 4.394186 & 1.111885e-05 & 6.909741e-04\\\\\n\\end{tabular}\n",
            "text/plain": [
              "  gene_id     baseMean  log2FoldChange lfcSE    stat     pvalue      \n",
              "1 FBgn0283462 130.34219 21.262287      5.948633 3.574315 3.511464e-04\n",
              "2 FBgn0050031 260.24240 20.231270      5.948630 3.400997 6.714069e-04\n",
              "3 FBgn0053872 825.16896 11.301623      2.062024 5.480839 4.233124e-08\n",
              "4 FBgn0053852 254.29437 10.643743      2.315333 4.597069 4.284757e-06\n",
              "5 FBgn0263121 152.07766  9.447224      2.081591 4.538464 5.666550e-06\n",
              "6 FBgn0032286  77.51381  9.202157      2.094166 4.394186 1.111885e-05\n",
              "  padj        \n",
              "1 1.416746e-02\n",
              "2 2.492786e-02\n",
              "3 5.071457e-06\n",
              "4 3.222610e-04\n",
              "5 3.919701e-04\n",
              "6 6.909741e-04"
            ]
          },
          "metadata": {}
        }
      ]
    },
    {
      "cell_type": "code",
      "source": [
        "# save\n",
        "write.xlsx(ms_ordered_ranking, file = \"ms_ordered_ranking.xlsx\", dec = \",\")\n",
        "write.xlsx(fs_ordered_ranking, file = \"fs_ordered_ranking.xlsx\", dec = \",\")\n",
        "write.xlsx(muts_ordered_ranking, file = \"muts_ordered_ranking.xlsx\", dec = \",\")\n",
        "write.xlsx(wts_ordered_ranking, file = \"wts_ordered_ranking.xlsx\", dec = \",\")"
      ],
      "metadata": {
        "id": "wAT-2T6ti1Rp"
      },
      "execution_count": null,
      "outputs": []
    }
  ]
}