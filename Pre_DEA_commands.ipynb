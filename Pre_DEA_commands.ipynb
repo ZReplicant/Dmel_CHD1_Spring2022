{
  "nbformat": 4,
  "nbformat_minor": 0,
  "metadata": {
    "colab": {
      "name": "Pre-DEA commands.ipynb",
      "provenance": [],
      "collapsed_sections": []
    },
    "kernelspec": {
      "name": "python3",
      "display_name": "Python 3"
    },
    "language_info": {
      "name": "python"
    }
  },
  "cells": [
    {
      "cell_type": "markdown",
      "source": [
        "### Initial data"
      ],
      "metadata": {
        "id": "JE6LkF-faDtf"
      }
    },
    {
      "cell_type": "code",
      "source": [
        "# We will need the files after RNA-sequencing (1 forward, 2 reverse):\n",
        "# V300093791_L01_89_1.fq.gz V300093791_L01_89_2.fq.gz\n",
        "# V300093791_L01_90_1.fq.gz V300093791_L01_90_2.fq.gz\n",
        "# V300093791_L01_91_1.fq.gz V300093791_L01_91_2.fq.gz\n",
        "# V300093791_L01_92_1.fq.gz V300093791_L01_92_2.fq.gz\n",
        "# V300093791_L01_93_1.fq.gz V300093791_L01_93_2.fq.gz\n",
        "# V300093791_L01_94_1.fq.gz V300093791_L01_94_2.fq.gz\n",
        "# V300093791_L01_95_1.fq.gz V300093791_L01_95_2.fq.gz\n",
        "# V300093791_L01_96_1.fq.gz V300093791_L01_96_2.fq.gz\n",
        "\n",
        "# These files are acquired with MGISEQ platform. More info can be seen in this file:\n",
        "# Probes.xlsx"
      ],
      "metadata": {
        "id": "rqp7ydWIa3Wz"
      },
      "execution_count": null,
      "outputs": []
    },
    {
      "cell_type": "markdown",
      "source": [
        "### Quality control"
      ],
      "metadata": {
        "id": "aeErl6xRUklq"
      }
    },
    {
      "cell_type": "markdown",
      "source": [
        "FastQC"
      ],
      "metadata": {
        "id": "2KX3iizmUpAa"
      }
    },
    {
      "cell_type": "code",
      "source": [
        "fastqc *.fq.gz -o ./fastqc_analysis"
      ],
      "metadata": {
        "id": "-tG6bBi4UkJW"
      },
      "execution_count": null,
      "outputs": []
    },
    {
      "cell_type": "code",
      "source": [
        "# Results:\n",
        "# V300093791_L01_89_1_fastqc.html V300093791_L01_89_2_fastqc.html\n",
        "# V300093791_L01_90_1_fastqc.html V300093791_L01_90_2_fastqc.html\n",
        "# V300093791_L01_91_1_fastqc.html V300093791_L01_91_2_fastqc.html\n",
        "# V300093791_L01_92_1_fastqc.html V300093791_L01_92_2_fastqc.html\n",
        "# V300093791_L01_93_1_fastqc.html V300093791_L01_93_2_fastqc.html\n",
        "# V300093791_L01_94_1_fastqc.html V300093791_L01_94_2_fastqc.html\n",
        "# V300093791_L01_95_1_fastqc.html V300093791_L01_95_2_fastqc.html\n",
        "# V300093791_L01_96_1_fastqc.html V300093791_L01_96_2_fastqc.html"
      ],
      "metadata": {
        "id": "6wwp13AIchzd"
      },
      "execution_count": null,
      "outputs": []
    },
    {
      "cell_type": "markdown",
      "source": [
        "MultiQC"
      ],
      "metadata": {
        "id": "BcpEe7A6UrFy"
      }
    },
    {
      "cell_type": "code",
      "execution_count": null,
      "metadata": {
        "id": "_Qfq5p17Tmhd"
      },
      "outputs": [],
      "source": [
        "multiqc ./fastqc_analysis"
      ]
    },
    {
      "cell_type": "code",
      "source": [
        "# Result: \n",
        "# multiqc_report.html"
      ],
      "metadata": {
        "id": "4btnLsLsdVnu"
      },
      "execution_count": null,
      "outputs": []
    },
    {
      "cell_type": "markdown",
      "source": [
        "### Quality correction"
      ],
      "metadata": {
        "id": "yrFbi4_3UsyW"
      }
    },
    {
      "cell_type": "markdown",
      "source": [
        "Bowtie2 | rRNA filtering"
      ],
      "metadata": {
        "id": "EXKmqtEtUx_c"
      }
    },
    {
      "cell_type": "code",
      "source": [
        "# firstly, we need to create an index\n",
        "\n",
        "# for reference we used:\n",
        "# dmel-all-rRNA-r6.41.fasta\n",
        "\n",
        "# the command looks like this:\n",
        "bowtie2-build dmel-all-rRNA-r6.41.fasta folder"
      ],
      "metadata": {
        "id": "0L2vUWXzoWqa"
      },
      "execution_count": null,
      "outputs": []
    },
    {
      "cell_type": "code",
      "source": [
        "# then, we can filter\n",
        "# the command looks like this:\n",
        "bowtie2 -x ./ -1 file_1.fq.qz -2 file_2.fq.gz --un-conc-gz ./alignments/file --threads 12\n",
        "\n",
        "# we have a .sh script:\n",
        "# bowtie2_align\n",
        "# with a following content:\n",
        "\n",
        "#!/bin/bash\n",
        "for infile in *_1.fq.gz\n",
        "\tdo\n",
        "\tbase=$(basename ${infile} _1.fq.gz)\n",
        "\tbowtie2 -x ../align/bowtie2_rrna_index/rrna -1 ${infile} -2 ${base}_2.fq.gz --un-conc-gz ../align/bowtie2_rrna_alignments/${base} --threads 12\n",
        "\tdone"
      ],
      "metadata": {
        "id": "ZDFEHnoLUxA6"
      },
      "execution_count": null,
      "outputs": []
    },
    {
      "cell_type": "markdown",
      "source": [
        "Trimmomatic 0.39 | Adapter/quality trimming"
      ],
      "metadata": {
        "id": "tRyuDet-U3E4"
      }
    },
    {
      "cell_type": "code",
      "source": [
        "# the command looks like this:\n",
        "java -jar /usr/share/java/trimmomatic-0.39.jar PE -threads 12 file_1.fq.gz file_2.fq.gz file_1_p.fq.gz file_1_up.fq.gz file_2_p.fq.gz file_2_up.fq.gz LEADING:20 TRAILING:20 SLIDINGWINDOW:4:15 ILLUMINACLIP:mgiadapters.fasta:2:30:10\n",
        "\n",
        "# we have a .sh script:\n",
        "# autotrim.sh\n",
        "# with the following content:\n",
        "\n",
        "#!/bin/bash\n",
        "for infile in *_1.fq.gz\n",
        "\tdo\n",
        "\tbase=$(basename ${infile} _1.fq.gz)\n",
        "\tjava -jar /usr/share/java/trimmomatic-0.39.jar PE -threads 12 ${infile} ${base}_2.fq.gz ${base}_1_p.fq.gz ${base}_1_up.fq.gz ${base}_2_p.fq.gz ${base}_2_up.fq.gz ILLUMINACLIP:mgiadapters.fasta:2:30:10 LEADING:20 TRAILING:20 SLIDINGWINDOW:4:15\n",
        "\tdone"
      ],
      "metadata": {
        "id": "VODimLqBU8WW"
      },
      "execution_count": null,
      "outputs": []
    },
    {
      "cell_type": "code",
      "source": [
        "# A reference for adapter trimming:\n",
        "# mgiadapters.fasta\n",
        "\n",
        "# Compiled from MGI official file:\n",
        "# Oligos-and-primers-for-BGISEQ&amp;DNBSEQ-NGS-system.pdf"
      ],
      "metadata": {
        "id": "k2V52povgd_x"
      },
      "execution_count": null,
      "outputs": []
    },
    {
      "cell_type": "markdown",
      "source": [
        "### Alignment"
      ],
      "metadata": {
        "id": "165VrIR6U_Z6"
      }
    },
    {
      "cell_type": "markdown",
      "source": [
        "Salmon | Alignment on transcripts"
      ],
      "metadata": {
        "id": "Pi623-wWVEZJ"
      }
    },
    {
      "cell_type": "code",
      "source": [
        "# firstly, we need to create an index\n",
        "\n",
        "# for reference we used:\n",
        "# dmel-all-transcript-r6.41.fasta\n",
        "\n",
        "# the command looks like this:\n",
        "salmon index -t dmel-all-transcript-r6.41.fasta -i transcript_index_salmon"
      ],
      "metadata": {
        "id": "lrKhm4cdxnWd"
      },
      "execution_count": null,
      "outputs": []
    },
    {
      "cell_type": "code",
      "source": [
        "# for this alignment we created  a file that shows transcript to gene connection:\n",
        "# tr2gene.csv\n",
        "\n",
        "# we have a .sh script:\n",
        "# create_genemap.sh\n",
        "# with the following content:\n",
        "\n",
        "# #!/bin/bash\n",
        "# when doing new research, substitute dmel-all-transcript-r6.41.fasta by any transcript of choice and change the paths.\n",
        "\n",
        "grep -o \"\\bID=\\w*\" ../ref_rna/functional/dmel-all-transcript-r6.41.fasta > ID.txt\n",
        "grep -o \"\\bparent=\\w*\" ../ref_rna/functional/dmel-all-transcript-r6.41.fasta > parent.txt\n",
        "wc -l parent.txt; wc -l ID.txt && echo \"Please, perform equality check\" || echo \"Error\"\n",
        "cut -d= -f2 ID.txt > ID\n",
        "cut -d= -f2 parent.txt > parent\n",
        "paste ID parent > tr2gene_transcript.csv\n",
        "cp tr2gene_transcript.csv ../ref_rna/functional\n",
        "rm -f ID.txt parent.txt ID parent"
      ],
      "metadata": {
        "id": "csvjXYqW4E3U"
      },
      "execution_count": null,
      "outputs": []
    },
    {
      "cell_type": "code",
      "source": [
        "# then, we can align\n",
        "\n",
        "# the command looks like this:\n",
        "\n",
        "# we have a .sh script:\n",
        "# autoalign_transcript.sh\n",
        "# with the following content:\n",
        "salmon quant -i ./transcript -l A -1 file_1.fq.gz -2 file_2.fq.gz -p 12 -g tr2gene.csv -o ./alignments\n",
        "\n",
        "#!/bin/bash\n",
        "for infile in *_1.fq.gz\n",
        "\tdo\n",
        "\tbase=$(basename ${infile} _1.fq.gz)\n",
        "\tsalmon quant -i ../ref_rna/functional/transcript -l A -1 ${infile} -2 ${base}_2.fq.gz -p 12 -g tr2gene_transcript.csv -o ../align/transcript_${base}\n",
        "\tdone"
      ],
      "metadata": {
        "id": "5su_T6YlVe4T"
      },
      "execution_count": null,
      "outputs": []
    }
  ]
}